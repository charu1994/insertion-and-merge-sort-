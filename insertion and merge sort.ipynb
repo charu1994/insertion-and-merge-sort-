{
 "cells": [
  {
   "cell_type": "markdown",
   "metadata": {},
   "source": [
    "In this notebook I will sort the array using the following algorithms.\n",
    "- insertion sort \n",
    "- binary insertion sort\n",
    "- merge sort \n",
    "\n",
    "### Insertion Sort \n",
    "this is one of the basic algorithms, it compares two elements and then swap them if the first element is greater then the second element to sort in ascending order.\n",
    "\n",
    "- its complexity is O(n^2), first O(n) is to traverse the array and second O(n) is for swaping and in worst case if the smallest number is at last position then it need to traverse full length of array.\n",
    "\n",
    "Example: suppose we have array  a = [ 2,  4, 3, 8, 0, 54, 34]\n",
    "\n",
    "- first take (2, 4) compare them as 4 < 2 no swapping in this step\n",
    "- (4, 3), 3 < 4 so swap them new array is [ 2, 3, 4, 8, 0,  54, 34]\n",
    "- (4, 8), 4 < 8, no swapping \n",
    "- (8, 0), 0 < 8, swap => [ 2, 3, 4, 0 , 8, 54, 34], now 0 < 8 so swapping will be done in backward direction \n",
    "- (4, 0), 0 < 4 , swap => [ 2, 3, 0 , 4, 8, 54, 34]\n",
    "- (3, 0), => [2, 0, 3, 4, 8, 54, 34]\n",
    "- (2, 0) => [ 0 , 2, 3, 4, 8, 54, 34]\n",
    "- (8, 54), no swap\n",
    "- (54, 34) => [0, 2, 3, 4, 8, 34, 54] and since 34 is greater than 8 there is no need to swap in backward direction, array is sorted now \n"
   ]
  },
  {
   "cell_type": "code",
   "execution_count": 16,
   "metadata": {},
   "outputs": [],
   "source": [
    "# sort in ascending order\n",
    "def insertion_sort(array):\n",
    "    for i in range(len(array) - 1):\n",
    "        # compare elements of array if first is greater than 2nd then swap them\n",
    "        if array[i] > array[i + 1] :\n",
    "            tmp = array[i]\n",
    "            array[i] = array[i + 1]\n",
    "            array[i + 1] = tmp\n",
    "#             print(\"array:\", array)\n",
    "        if i > 1:\n",
    "            # swap in bckward direction if the element after swaping is less than the elements before them\n",
    "            for j in range(i, 0, -1):\n",
    "                if array[j] < array[j-1]:\n",
    "                    tmp = array[j]\n",
    "                    array[j] = array[j-1]\n",
    "                    array[j -1] = tmp\n",
    "#                     print('array:', array)\n",
    "                    \n",
    "    return array\n",
    "        "
   ]
  },
  {
   "cell_type": "code",
   "execution_count": 17,
   "metadata": {},
   "outputs": [
    {
     "name": "stdout",
     "output_type": "stream",
     "text": [
      "[0, 1, 2, 3, 4, 8, 34, 54]\n"
     ]
    }
   ],
   "source": [
    "print(insertion_sort( [ 2, 4, 3, 8, 0, 54, 34, 1]))\n"
   ]
  },
  {
   "cell_type": "code",
   "execution_count": 18,
   "metadata": {},
   "outputs": [
    {
     "name": "stdout",
     "output_type": "stream",
     "text": [
      "[0, 2, 2, 2, 3, 4, 4, 5, 5, 6, 8, 8, 12, 25, 28, 34, 35, 39, 52, 56, 65, 85, 96, 98, 100]\n"
     ]
    }
   ],
   "source": [
    "print(insertion_sort([2, 98, 100, 2, 3, 4, 5, 6, 8, 34, 12, 56, 39, 52, 65,25, 4, 2, 0, 5, 8, 85, 96, 35, 28]))\n"
   ]
  },
  {
   "cell_type": "code",
   "execution_count": 19,
   "metadata": {},
   "outputs": [
    {
     "name": "stdout",
     "output_type": "stream",
     "text": [
      "40.9 µs ± 600 ns per loop (mean ± std. dev. of 7 runs, 10000 loops each)\n"
     ]
    }
   ],
   "source": [
    " %timeit insertion_sort([2, 98, 100, 2, 3, 4, 5, 6, 8, 34, 12, 56, 39, 52, 65,25, 4, 2, 0, 5, 8, 85, 96, 35, 28])"
   ]
  },
  {
   "cell_type": "markdown",
   "metadata": {},
   "source": [
    "from above, it is clear that if the data to sort is huge then this algorithm will take huge time ! How can this be improved ????\n",
    "well, don't go far, let's improve this algorithm!\n",
    "\n",
    "now, we can see that the elements on the left hand side are sorted as we have done comparision and swaping in the privious step. now in case of backward direction, we can apply divide and conquer algorithm which is take the middle element and compare it with the number if the is greater than the middle number then this element will definitely be placed in right half of the sorted array.\n",
    "\n",
    "![img](Binary-Search.png)\n",
    "\n",
    "Take the rigth half and again take the middle element and compare it. In this way, we are reducing n steps into log(n) steps, Great! right ?\n",
    "now if we do swaping in forward direction and perform binary search in backward direction then the new complexity will be O(n(log(n)))\n",
    "\n",
    "Note: this log(n) complexity is for comparision, n is for swaping.\n",
    "\n",
    "well, the above algorithm is called binary insertion algorithm.\n",
    "\n",
    "### Binary Insertion Algorithm "
   ]
  },
  {
   "cell_type": "code",
   "execution_count": 20,
   "metadata": {},
   "outputs": [],
   "source": [
    "def binary_insertion_sort(array):\n",
    "\n",
    "    for i in range(len(array) - 1):\n",
    "        # compare elements of array if first is greater than 2nd then swap them\n",
    "        if array[i] > array[i + 1] :\n",
    "            tmp = array[i]\n",
    "            array[i] = array[i + 1]\n",
    "            array[i + 1] = tmp\n",
    "#             print(\"array:\", array)\n",
    "        \n",
    "        if i > 1 and array[i] < array[i-1]:\n",
    "            insert_at_idx = perform_binary_search(array=array[:i], num=array[i], start=0, end=len(array[:i]) - 1)\n",
    "            \n",
    "            # delete that value from the array at that position and movein at the new position\n",
    "#             move_value = array[i]\n",
    "#             part1 = array[:insert_at_idx]\n",
    "#             part2 = array[insert_at_idx : i]\n",
    "#             part3 = array[i+ 1 : ]\n",
    "#             array = array[: insert_at_idx]+ array[i: i+1] + array[insert_at_idx: i] + array[ i + 1 : ]\n",
    "            \n",
    "#             del(array[i])\n",
    "#             print(\"move value:\", move_value)\n",
    "            array.insert(insert_at_idx , array[i])\n",
    "    \n",
    "            del(array[i + 1])\n",
    "#             print(\"array:->\", array)\n",
    "            \n",
    "                   \n",
    "    return array\n",
    "\n",
    "\n",
    "\n",
    "\"\"\" function to perform binary search to move element in backward direction \"\"\"\n",
    "def perform_binary_search(array, num, start, end):\n",
    "#     print('inside binary search:', array)\n",
    "    # swap in bckward direction if the element after swaping is less than the elements before them\n",
    "    middle_idx = int((start + end ) / 2)\n",
    "    middle_num = array[middle_idx]\n",
    "#     print('number:', num)\n",
    "#     print(\"middle_num:\", middle_num)\n",
    "#     print('middle_idx:', middle_idx)\n",
    "#     print('start:', start)\n",
    "#     print('end:', end)\n",
    "    \n",
    "    # if element is equal to middle number \n",
    "    if num == middle_num:\n",
    "        return middle_idx + 1\n",
    "    # if end position is less than start that means element at start position is the required position\n",
    "    if end < start :\n",
    "#         print('inserting at', start, 'position')\n",
    "        return start\n",
    "    \n",
    "    # if the element is less than the middle element then search in left half\n",
    "    if num < middle_num:\n",
    "        # take left half\n",
    "#         print(\"left:\", array[start : end],\"start:\", start,\"end\", end)\n",
    "        return perform_binary_search(array, num, start, end = middle_idx - 1)\n",
    "        \n",
    "    # if the element is greater than the middle element then search in right half   \n",
    "    if num > middle_num:\n",
    "        # take right half\n",
    "#         print(\"right:\", array[start : end], \"start:\",start,\"end\", end)\n",
    "        return perform_binary_search(array, num, start=middle_idx + 1, end=end)\n",
    "    \n",
    "\n",
    "\n",
    "    \n",
    "    \n",
    "    "
   ]
  },
  {
   "cell_type": "code",
   "execution_count": 21,
   "metadata": {},
   "outputs": [
    {
     "data": {
      "text/plain": [
       "[0, 1, 2, 3, 4, 8, 34, 54]"
      ]
     },
     "execution_count": 21,
     "metadata": {},
     "output_type": "execute_result"
    }
   ],
   "source": [
    "binary_insertion_sort([ 2, 4, 3, 8, 0, 54, 34, 1])"
   ]
  },
  {
   "cell_type": "code",
   "execution_count": 22,
   "metadata": {},
   "outputs": [
    {
     "name": "stdout",
     "output_type": "stream",
     "text": [
      "[0, 2, 2, 2, 3, 4, 4, 5, 5, 6, 8, 8, 12, 25, 28, 34, 35, 39, 52, 56, 65, 85, 96, 98, 100]\n"
     ]
    }
   ],
   "source": [
    "print(binary_insertion_sort([2, 98, 100, 2, 3, 4, 5, 6, 8, 34, 12, 56, 39, 52, 65,25, 4, 2, 0, 5, 8, 85, 96, 35, 28]))"
   ]
  },
  {
   "cell_type": "code",
   "execution_count": 23,
   "metadata": {},
   "outputs": [
    {
     "name": "stdout",
     "output_type": "stream",
     "text": [
      "58 µs ± 2.64 µs per loop (mean ± std. dev. of 7 runs, 10000 loops each)\n"
     ]
    }
   ],
   "source": [
    "%timeit binary_insertion_sort([2, 98, 100, 2, 3, 4, 5, 6, 8, 34, 12, 56, 39, 52, 65,25, 4, 2, 0, 5, 8, 85, 96, 35, 28])"
   ]
  },
  {
   "cell_type": "markdown",
   "metadata": {},
   "source": [
    "#### Merge Sort\n",
    "\n",
    "- first divide the array into two equal halfs\n",
    "![image](unsorted_array.jpg)\n",
    "- then divide each of these halfs into two equal halfs\n",
    "![image](merge_sort_divide_1.jpg)\n",
    "- divide the array to its atomic level where it can not be divided anymore.\n",
    "![image](merge_sort_divide_2.jpg)\n",
    "![image](merge_sort_divide_3.jpg)\n",
    "- After this, start combining them in sorted order by comparing elements with the elements of immediate neightbour of the next half. for example compare 14 and 33 and since 14 < 33, combine them like that. But in case of 27, 10, 21> 10 therefore put 10 first and then 27.\n",
    "![image](merge_sort_combine_1.jpg)\n",
    "\n",
    "![image](merge_sort_combine_2.jpg)\n",
    "![image](merge_sort.jpg)\n",
    "\n",
    "\n",
    "the complexity of merge sort is O(nlogn). But there is one problem with merge sort which is it takes extra memory to sort array and if the data set in in billion or trillion form then it will be a problem\n"
   ]
  },
  {
   "cell_type": "code",
   "execution_count": 44,
   "metadata": {},
   "outputs": [],
   "source": [
    "def merge(m1, m2):\n",
    "    output = []\n",
    "    total_length = len(m1) + len(m2)\n",
    "    len_m1 = 0\n",
    "    len_m2 = 0\n",
    "\n",
    "    while len_m1 + len_m2 < total_length :\n",
    "        if len_m1 >= len(m1):\n",
    "            output.extend(m2[len_m2: ])\n",
    "            break\n",
    "        elif len_m2 >= len(m2):\n",
    "            output.extend(m1[len_m1: ])\n",
    "            break\n",
    "            \n",
    "        elif m1[len_m1] < m2[len_m2] :\n",
    "            output.append(m1[len_m1])\n",
    "            len_m1 +=1\n",
    "        else:\n",
    "            output.append(m2[len_m2])\n",
    "            len_m2 +=1\n",
    "#     print('m1:', m1)\n",
    "#     print(\"m2:\", m2)\n",
    "#     print(\"output:\", output)   \n",
    "    return output\n",
    "\n",
    "\n",
    "def merge_sort(array):\n",
    "    start = 0\n",
    "    end = len(array)\n",
    "    if len(array) == 1:\n",
    "        return array\n",
    "    else:\n",
    "        mid_num = int((start + end) / 2)\n",
    "        m1 = merge_sort(array[: mid_num])\n",
    "        m2 = merge_sort(array[mid_num :])\n",
    "        return merge(m1, m2)"
   ]
  },
  {
   "cell_type": "code",
   "execution_count": 45,
   "metadata": {},
   "outputs": [
    {
     "data": {
      "text/plain": [
       "[0, 1, 2, 3, 4, 5, 7]"
      ]
     },
     "execution_count": 45,
     "metadata": {},
     "output_type": "execute_result"
    }
   ],
   "source": [
    "merge_sort([2,3,1,5,4,7,0])"
   ]
  },
  {
   "cell_type": "code",
   "execution_count": 46,
   "metadata": {},
   "outputs": [
    {
     "data": {
      "text/plain": [
       "[-75, -20, 0, 1, 7, 20, 23, 23, 34, 44, 45, 55, 56, 80, 100]"
      ]
     },
     "execution_count": 46,
     "metadata": {},
     "output_type": "execute_result"
    }
   ],
   "source": [
    "merge_sort([55, 45, 34, 23, 100, 56, 44, 23, 0, 1, 80, -75, -20, 20,7])"
   ]
  },
  {
   "cell_type": "code",
   "execution_count": 47,
   "metadata": {},
   "outputs": [],
   "source": [
    "lst = [20,19,18,17,16,15,14,13,12,11,10,9,8,7,6,5,4,3,2,1,0,-1,-2,-3,-4,-5]\n"
   ]
  },
  {
   "cell_type": "code",
   "execution_count": 48,
   "metadata": {},
   "outputs": [
    {
     "name": "stdout",
     "output_type": "stream",
     "text": [
      "27.9 µs ± 914 ns per loop (mean ± std. dev. of 7 runs, 10000 loops each)\n"
     ]
    }
   ],
   "source": [
    "%timeit insertion_sort(lst)"
   ]
  },
  {
   "cell_type": "code",
   "execution_count": 49,
   "metadata": {},
   "outputs": [
    {
     "name": "stdout",
     "output_type": "stream",
     "text": [
      "3.8 µs ± 215 ns per loop (mean ± std. dev. of 7 runs, 100000 loops each)\n"
     ]
    }
   ],
   "source": [
    "%timeit binary_insertion_sort(lst)"
   ]
  },
  {
   "cell_type": "code",
   "execution_count": 50,
   "metadata": {},
   "outputs": [
    {
     "name": "stdout",
     "output_type": "stream",
     "text": [
      "49.6 µs ± 2.93 µs per loop (mean ± std. dev. of 7 runs, 10000 loops each)\n"
     ]
    }
   ],
   "source": [
    "%timeit merge_sort(lst)"
   ]
  },
  {
   "cell_type": "code",
   "execution_count": null,
   "metadata": {},
   "outputs": [],
   "source": []
  }
 ],
 "metadata": {
  "kernelspec": {
   "display_name": "Python 3",
   "language": "python",
   "name": "python3"
  },
  "language_info": {
   "codemirror_mode": {
    "name": "ipython",
    "version": 3
   },
   "file_extension": ".py",
   "mimetype": "text/x-python",
   "name": "python",
   "nbconvert_exporter": "python",
   "pygments_lexer": "ipython3",
   "version": "3.7.3"
  }
 },
 "nbformat": 4,
 "nbformat_minor": 2
}
